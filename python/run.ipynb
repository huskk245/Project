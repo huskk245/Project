{
 "cells": [
  {
   "cell_type": "code",
   "execution_count": null,
   "id": "7f90f543-c41d-4407-a6a8-0516f692ed6f",
   "metadata": {},
   "outputs": [],
   "source": [
    "!streamlit run deployment-app.py"
   ]
  },
  {
   "cell_type": "code",
   "execution_count": null,
   "id": "8026dfc4-1187-4245-a672-4843154615d6",
   "metadata": {},
   "outputs": [],
   "source": []
  }
 ],
 "metadata": {
  "kernelspec": {
   "display_name": "Python 3 (ipykernel)",
   "language": "python",
   "name": "python3"
  },
  "language_info": {
   "codemirror_mode": {
    "name": "ipython",
    "version": 3
   },
   "file_extension": ".py",
   "mimetype": "text/x-python",
   "name": "python",
   "nbconvert_exporter": "python",
   "pygments_lexer": "ipython3",
   "version": "3.10.16"
  }
 },
 "nbformat": 4,
 "nbformat_minor": 5
}
